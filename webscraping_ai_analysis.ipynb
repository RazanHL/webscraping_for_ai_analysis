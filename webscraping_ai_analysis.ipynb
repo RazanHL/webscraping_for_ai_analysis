{
  "nbformat": 4,
  "nbformat_minor": 0,
  "metadata": {
    "colab": {
      "provenance": [],
      "authorship_tag": "ABX9TyPHzdvm+wrUDA0tBppAhFSd",
      "include_colab_link": true
    },
    "kernelspec": {
      "name": "python3",
      "display_name": "Python 3"
    },
    "language_info": {
      "name": "python"
    }
  },
  "cells": [
    {
      "cell_type": "markdown",
      "metadata": {
        "id": "view-in-github",
        "colab_type": "text"
      },
      "source": [
        "<a href=\"https://colab.research.google.com/github/RazanHL/webscraping_for_ai_analysis/blob/main/webscraping_ai_analysis.ipynb\" target=\"_parent\"><img src=\"https://colab.research.google.com/assets/colab-badge.svg\" alt=\"Open In Colab\"/></a>"
      ]
    },
    {
      "cell_type": "code",
      "source": [
        "!pip install -q transformers"
      ],
      "metadata": {
        "id": "OGgN68c4UmE8"
      },
      "execution_count": 2,
      "outputs": []
    },
    {
      "cell_type": "code",
      "source": [
        "# Importing required libraries\n",
        "import requests\n",
        "from bs4 import BeautifulSoup\n",
        "import re\n",
        "from transformers import pipeline"
      ],
      "metadata": {
        "id": "cmR87Nq7UkNs"
      },
      "execution_count": 1,
      "outputs": []
    },
    {
      "cell_type": "code",
      "source": [
        "# Scraping content from a website page\n",
        "def scrape_website(url):\n",
        "    response = requests.get(url)\n",
        "    if response.status_code == 200:\n",
        "        soup = BeautifulSoup(response.content, \"html.parser\")\n",
        "        # Extract text content from paragraphs\n",
        "        paragraphs = soup.find_all('p')\n",
        "        text_content = ' '.join([p.get_text() for p in paragraphs])\n",
        "        # Cleaning text using regular expressions\n",
        "        cleaned_text = re.sub(r'\\s+', ' ', text_content).strip()\n",
        "        return cleaned_text\n",
        "    else:\n",
        "        print(\"Failed to fetch the webpage.\")\n",
        "        return \"\"\n"
      ],
      "metadata": {
        "id": "RtotGz3QUr9A"
      },
      "execution_count": 5,
      "outputs": []
    },
    {
      "cell_type": "code",
      "source": [
        "# Scraping content from langchain documentation as an example\n",
        "url = \"https://python.langchain.com/v0.1/docs/modules/agents/concepts/\"\n",
        "website_content = scrape_website(url)"
      ],
      "metadata": {
        "id": "Q4IJ48TFUyTA"
      },
      "execution_count": 6,
      "outputs": []
    },
    {
      "cell_type": "code",
      "source": [
        "website_content"
      ],
      "metadata": {
        "colab": {
          "base_uri": "https://localhost:8080/",
          "height": 417
        },
        "id": "_2_vTp1NWXIC",
        "outputId": "9a3ac75f-814c-4713-8f78-73de2754f1fa"
      },
      "execution_count": 7,
      "outputs": [
        {
          "output_type": "execute_result",
          "data": {
            "text/plain": [
              "\"The core idea of agents is to use a language model to choose a sequence of actions to take. In chains, a sequence of actions is hardcoded (in code). In agents, a language model is used as a reasoning engine to determine which actions to take and in which order. There are several key components here: LangChain has several abstractions to make working with agents easy. This is a dataclass that represents the action an agent should take. It has a tool property (which is the name of the tool that should be invoked) and a tool_input property (the input to that tool) This represents the final result from an agent, when it is ready to return to the user. It contains a return_values key-value mapping, which contains the final agent output. Usually, this contains an output key containing a string that is the agent's response. These represent previous agent actions and corresponding outputs from this CURRENT agent run. These are important to pass to future iteration so the agent knows what work it has already done. This is typed as a List[Tuple[AgentAction, Any]]. Note that observation is currently left as type Any to be maximally flexible. In practice, this is often a string. This is the chain responsible for deciding what step to take next. This is usually powered by a language model, a prompt, and an output parser. Different agents have different prompting styles for reasoning, different ways of encoding inputs, and different ways of parsing the output. For a full list of built-in agents see agent types. You can also easily build custom agents, should you need further control. The inputs to an agent are a key-value mapping. There is only one required key: intermediate_steps, which corresponds to Intermediate Steps as described above. Generally, the PromptTemplate takes care of transforming these pairs into a format that can best be passed into the LLM. The output is the next action(s) to take or the final response to send to the user (AgentActions or AgentFinish). Concretely, this can be typed as Union[AgentAction, List[AgentAction], AgentFinish]. The output parser is responsible for taking the raw LLM output and transforming it into one of these three types. The agent executor is the runtime for an agent. This is what actually calls the agent, executes the actions it chooses, passes the action outputs back to the agent, and repeats. In pseudocode, this looks roughly like: While this may seem simple, there are several complexities this runtime handles for you, including: Tools are functions that an agent can invoke. The Tool abstraction consists of two components: There are two important design considerations around tools: Without thinking through both, you won't be able to build a working agent. If you don't give the agent access to a correct set of tools, it will never be able to accomplish the objectives you give it. If you don't describe the tools well, the agent won't know how to use them properly. LangChain provides a wide set of built-in tools, but also makes it easy to define your own (including custom descriptions). For a full list of built-in tools, see the tools integrations section For many common tasks, an agent will need a set of related tools. For this LangChain provides the concept of toolkits - groups of around 3-5 tools needed to accomplish specific objectives. For example, the GitHub toolkit has a tool for searching through GitHub issues, a tool for reading a file, a tool for commenting, etc. LangChain provides a wide set of toolkits to get started. For a full list of built-in toolkits, see the toolkits integrations section\""
            ],
            "application/vnd.google.colaboratory.intrinsic+json": {
              "type": "string"
            }
          },
          "metadata": {},
          "execution_count": 7
        }
      ]
    },
    {
      "cell_type": "code",
      "source": [
        "# Loading a pre-trained question-answering model\n",
        "qa_model = pipeline(\n",
        "    task=\"question-answering\",\n",
        "    model=\"distilbert/distilbert-base-cased-distilled-squad\",\n",
        "    clean_up_tokenization_spaces=True)"
      ],
      "metadata": {
        "id": "_fvLN4X8U5ic"
      },
      "execution_count": 28,
      "outputs": []
    },
    {
      "cell_type": "code",
      "source": [
        "qa_model"
      ],
      "metadata": {
        "colab": {
          "base_uri": "https://localhost:8080/"
        },
        "id": "9oIrHLkHWcVx",
        "outputId": "96f0cce9-6a1a-4809-9eab-d9843c93b868"
      },
      "execution_count": 24,
      "outputs": [
        {
          "output_type": "execute_result",
          "data": {
            "text/plain": [
              "<transformers.pipelines.question_answering.QuestionAnsweringPipeline at 0x7f469c5b6ef0>"
            ]
          },
          "metadata": {},
          "execution_count": 24
        }
      ]
    },
    {
      "cell_type": "code",
      "source": [
        "# Fine-tuning or contextually using the scraped data\n",
        "context = website_content\n"
      ],
      "metadata": {
        "id": "bFKCFpjiVCWx"
      },
      "execution_count": 9,
      "outputs": []
    },
    {
      "cell_type": "code",
      "execution_count": 25,
      "metadata": {
        "colab": {
          "base_uri": "https://localhost:8080/"
        },
        "id": "st9wSrTOUHbg",
        "outputId": "5b10390c-4b0f-49a0-c203-93c0f7ba920b"
      },
      "outputs": [
        {
          "output_type": "stream",
          "name": "stdout",
          "text": [
            "Question: What services does the website offer?\n",
            "Answer: built-in agents see agent types\n",
            "\n"
          ]
        }
      ],
      "source": [
        "question = \"What services does the website offer?\"\n",
        "result = qa_model(question=question, context=context)\n",
        "print(f\"Question: {question}\\nAnswer: {result['answer']}\\n\")"
      ]
    },
    {
      "cell_type": "code",
      "source": [
        "result"
      ],
      "metadata": {
        "colab": {
          "base_uri": "https://localhost:8080/"
        },
        "id": "ZUA5N7qroxc_",
        "outputId": "d1310254-d131-404f-bd1a-05c94207a85e"
      },
      "execution_count": 29,
      "outputs": [
        {
          "output_type": "execute_result",
          "data": {
            "text/plain": [
              "{'score': 6.753708021278726e-06,\n",
              " 'start': 1490,\n",
              " 'end': 1521,\n",
              " 'answer': 'built-in agents see agent types'}"
            ]
          },
          "metadata": {},
          "execution_count": 29
        }
      ]
    },
    {
      "cell_type": "code",
      "source": [
        "question = \"What is Intermediate Steps?\"\n",
        "result = qa_model(question=question, context=context)\n",
        "print(f\"Question: {question}\\nAnswer: {result['answer']}\\n\")"
      ],
      "metadata": {
        "colab": {
          "base_uri": "https://localhost:8080/"
        },
        "id": "F1TWpbOGWn35",
        "outputId": "318a9356-7ee5-4345-ed30-44773b5455d7"
      },
      "execution_count": 13,
      "outputs": [
        {
          "output_type": "stream",
          "name": "stdout",
          "text": [
            "Question: What is Intermediate Steps?\n",
            "Answer: one required key\n",
            "\n"
          ]
        }
      ]
    },
    {
      "cell_type": "code",
      "source": [
        "question = \"What is AgentExecutor?\"\n",
        "result = qa_model(question=question, context=context)\n",
        "print(f\"Question: {question}\\nAnswer: {result['answer']}\\n\")"
      ],
      "metadata": {
        "colab": {
          "base_uri": "https://localhost:8080/"
        },
        "id": "FKsE1RRqXd7q",
        "outputId": "a48b0720-06f8-43c3-83b8-f048b577608a"
      },
      "execution_count": 15,
      "outputs": [
        {
          "output_type": "stream",
          "name": "stdout",
          "text": [
            "Question: What is AgentExecutor?\n",
            "Answer: the runtime for an agent\n",
            "\n"
          ]
        }
      ]
    }
  ]
}